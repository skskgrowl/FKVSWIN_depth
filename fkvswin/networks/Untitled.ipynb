{
 "cells": [
  {
   "cell_type": "code",
   "execution_count": 8,
   "id": "98f41c92-ed70-4452-9853-c664189f8bdd",
   "metadata": {},
   "outputs": [
    {
     "name": "stdout",
     "output_type": "stream",
     "text": [
      "attn torch.Size([56, 4, 49, 49])\n",
      "torch.Size([1, 4, 49, 49])\n",
      "attn torch.Size([56, 4, 49, 49])\n",
      "torch.Size([1, 4, 49, 49])\n",
      "torch.Size([2, 1024, 22, 44])\n"
     ]
    }
   ],
   "source": [
    "!python newcrf_layers1.py"
   ]
  }
 ],
 "metadata": {
  "kernelspec": {
   "display_name": "Python 3 (ipykernel)",
   "language": "python",
   "name": "python3"
  },
  "language_info": {
   "codemirror_mode": {
    "name": "ipython",
    "version": 3
   },
   "file_extension": ".py",
   "mimetype": "text/x-python",
   "name": "python",
   "nbconvert_exporter": "python",
   "pygments_lexer": "ipython3",
   "version": "3.8.10"
  }
 },
 "nbformat": 4,
 "nbformat_minor": 5
}
